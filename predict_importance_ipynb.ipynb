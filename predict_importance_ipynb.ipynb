{
  "nbformat": 4,
  "nbformat_minor": 0,
  "metadata": {
    "colab": {
      "name": "predict_importance.ipynb.ipynb",
      "provenance": [],
      "collapsed_sections": [],
      "toc_visible": true
    },
    "kernelspec": {
      "display_name": "Python 3",
      "name": "python3"
    }
  },
  "cells": [
    {
      "cell_type": "code",
      "metadata": {
        "colab": {
          "base_uri": "https://localhost:8080/"
        },
        "id": "VPHkS7pKOHzO",
        "outputId": "4babe740-8c9d-4e0a-a94d-351686acc5bd"
      },
      "source": [
        "from google.colab import drive\n",
        "drive.mount('/gdrive')"
      ],
      "execution_count": 87,
      "outputs": [
        {
          "output_type": "stream",
          "text": [
            "Drive already mounted at /gdrive; to attempt to forcibly remount, call drive.mount(\"/gdrive\", force_remount=True).\n"
          ],
          "name": "stdout"
        }
      ]
    },
    {
      "cell_type": "markdown",
      "metadata": {
        "id": "ziMVoh6CPRDY"
      },
      "source": [
        "# Install Required Library"
      ]
    },
    {
      "cell_type": "code",
      "metadata": {
        "colab": {
          "base_uri": "https://localhost:8080/"
        },
        "id": "-90hYpxLKqiP",
        "outputId": "f385817c-f966-4064-ec57-58365c248dc4"
      },
      "source": [
        "!pip install category_encoders"
      ],
      "execution_count": 88,
      "outputs": [
        {
          "output_type": "stream",
          "text": [
            "Requirement already satisfied: category_encoders in /usr/local/lib/python3.6/dist-packages (2.2.2)\n",
            "Requirement already satisfied: scipy>=1.0.0 in /usr/local/lib/python3.6/dist-packages (from category_encoders) (1.4.1)\n",
            "Requirement already satisfied: patsy>=0.5.1 in /usr/local/lib/python3.6/dist-packages (from category_encoders) (0.5.1)\n",
            "Requirement already satisfied: pandas>=0.21.1 in /usr/local/lib/python3.6/dist-packages (from category_encoders) (1.1.5)\n",
            "Requirement already satisfied: scikit-learn>=0.20.0 in /usr/local/lib/python3.6/dist-packages (from category_encoders) (0.22.2.post1)\n",
            "Requirement already satisfied: numpy>=1.14.0 in /usr/local/lib/python3.6/dist-packages (from category_encoders) (1.19.5)\n",
            "Requirement already satisfied: statsmodels>=0.9.0 in /usr/local/lib/python3.6/dist-packages (from category_encoders) (0.10.2)\n",
            "Requirement already satisfied: six in /usr/local/lib/python3.6/dist-packages (from patsy>=0.5.1->category_encoders) (1.15.0)\n",
            "Requirement already satisfied: python-dateutil>=2.7.3 in /usr/local/lib/python3.6/dist-packages (from pandas>=0.21.1->category_encoders) (2.8.1)\n",
            "Requirement already satisfied: pytz>=2017.2 in /usr/local/lib/python3.6/dist-packages (from pandas>=0.21.1->category_encoders) (2018.9)\n",
            "Requirement already satisfied: joblib>=0.11 in /usr/local/lib/python3.6/dist-packages (from scikit-learn>=0.20.0->category_encoders) (1.0.0)\n"
          ],
          "name": "stdout"
        }
      ]
    },
    {
      "cell_type": "code",
      "metadata": {
        "colab": {
          "base_uri": "https://localhost:8080/"
        },
        "id": "tuJ1RjFeEBX0",
        "outputId": "f8043ddc-b37e-4715-8d86-def61e030d0b"
      },
      "source": [
        "!pip install catboost"
      ],
      "execution_count": 89,
      "outputs": [
        {
          "output_type": "stream",
          "text": [
            "Requirement already satisfied: catboost in /usr/local/lib/python3.6/dist-packages (0.24.4)\n",
            "Requirement already satisfied: plotly in /usr/local/lib/python3.6/dist-packages (from catboost) (4.4.1)\n",
            "Requirement already satisfied: scipy in /usr/local/lib/python3.6/dist-packages (from catboost) (1.4.1)\n",
            "Requirement already satisfied: graphviz in /usr/local/lib/python3.6/dist-packages (from catboost) (0.10.1)\n",
            "Requirement already satisfied: pandas>=0.24.0 in /usr/local/lib/python3.6/dist-packages (from catboost) (1.1.5)\n",
            "Requirement already satisfied: six in /usr/local/lib/python3.6/dist-packages (from catboost) (1.15.0)\n",
            "Requirement already satisfied: numpy>=1.16.0 in /usr/local/lib/python3.6/dist-packages (from catboost) (1.19.5)\n",
            "Requirement already satisfied: matplotlib in /usr/local/lib/python3.6/dist-packages (from catboost) (3.2.2)\n",
            "Requirement already satisfied: retrying>=1.3.3 in /usr/local/lib/python3.6/dist-packages (from plotly->catboost) (1.3.3)\n",
            "Requirement already satisfied: pytz>=2017.2 in /usr/local/lib/python3.6/dist-packages (from pandas>=0.24.0->catboost) (2018.9)\n",
            "Requirement already satisfied: python-dateutil>=2.7.3 in /usr/local/lib/python3.6/dist-packages (from pandas>=0.24.0->catboost) (2.8.1)\n",
            "Requirement already satisfied: kiwisolver>=1.0.1 in /usr/local/lib/python3.6/dist-packages (from matplotlib->catboost) (1.3.1)\n",
            "Requirement already satisfied: pyparsing!=2.0.4,!=2.1.2,!=2.1.6,>=2.0.1 in /usr/local/lib/python3.6/dist-packages (from matplotlib->catboost) (2.4.7)\n",
            "Requirement already satisfied: cycler>=0.10 in /usr/local/lib/python3.6/dist-packages (from matplotlib->catboost) (0.10.0)\n"
          ],
          "name": "stdout"
        }
      ]
    },
    {
      "cell_type": "markdown",
      "metadata": {
        "id": "jkdohsm9Ph9s"
      },
      "source": [
        "# Import"
      ]
    },
    {
      "cell_type": "code",
      "metadata": {
        "id": "DRgdPWYzOHzQ"
      },
      "source": [
        "import pandas as pd\n",
        "import numpy as np\n",
        "import matplotlib.pyplot as plt\n",
        "import seaborn as sns\n",
        "\n",
        "import warnings\n",
        "warnings.filterwarnings('ignore')\n",
        "\n",
        "from category_encoders import TargetEncoder\n",
        "import category_encoders as ce\n",
        "from sklearn.preprocessing import OneHotEncoder\n",
        "\n",
        "\n",
        "from sklearn.model_selection import train_test_split\n",
        "\n",
        "\n",
        "from sklearn.ensemble import RandomForestClassifier\n",
        "\n",
        "from sklearn.metrics import accuracy_score \n",
        "from sklearn.metrics import recall_score\n",
        "from sklearn.metrics import precision_score"
      ],
      "execution_count": 160,
      "outputs": []
    },
    {
      "cell_type": "code",
      "metadata": {
        "id": "GFaq1cktPi3Y"
      },
      "source": [
        "train = pd.read_csv('/gdrive/MyDrive/02_Citizens_grievances_Hackathon/dataset/train.csv')\r\n",
        "test = pd.read_csv('/gdrive/MyDrive/02_Citizens_grievances_Hackathon/dataset/test.csv')"
      ],
      "execution_count": 161,
      "outputs": []
    },
    {
      "cell_type": "code",
      "metadata": {
        "id": "iLJZeppbJ2D4"
      },
      "source": [
        "# for col in train.columns:\r\n",
        "#   print(col, '-----nunique------', train[col].nunique(), '----nulls----', train[col].isnull().sum(), '-------', train[col].dtypes)"
      ],
      "execution_count": 92,
      "outputs": []
    },
    {
      "cell_type": "markdown",
      "metadata": {
        "id": "K8UfCmtdW9xB"
      },
      "source": [
        "# EDA"
      ]
    },
    {
      "cell_type": "code",
      "metadata": {
        "id": "UGcV1ajwLYkJ"
      },
      "source": [
        "date_cols = []\r\n",
        "for col in train.columns:\r\n",
        "  if col.endswith('date'):\r\n",
        "    date_cols.append(col)\r\n",
        "\r\n",
        "train[date_cols] = train[date_cols].astype('datetime64[ns]')\r\n",
        "\r\n",
        "train['date_diff_1'] =  (train['decisiondate'].dt.year - train['introductiondate'].dt.year) * 12 + train['decisiondate'].dt.month - train['introductiondate'].dt.month\r\n",
        "\r\n",
        "## test\r\n",
        "\r\n",
        "test[date_cols] = test[date_cols].astype('datetime64[ns]')\r\n",
        "\r\n",
        "test['date_diff_1'] =  (test['decisiondate'].dt.year - test['introductiondate'].dt.year) * 12 + test['decisiondate'].dt.month - test['introductiondate'].dt.month"
      ],
      "execution_count": 162,
      "outputs": []
    },
    {
      "cell_type": "code",
      "metadata": {
        "id": "19aEOKqEDqsI"
      },
      "source": [
        "train['judge_year'] = train['judgementdate'].dt.year\r\n",
        "# train['judge_month'] = train['judgementdate'].dt.month\r\n",
        "# train['judge_day'] = train['judgementdate'].dt.day\r\n",
        "# train['judge_day_of_week'] = train['judgementdate'].dt.dayofweek\r\n",
        "# train['judge_week_of_year'] = train['judgementdate'].dt.weekofyear\r\n",
        "\r\n",
        "train['judge_year_diff'] = max(train['judge_year'])-train['judge_year']\r\n",
        "\r\n",
        "\r\n",
        "test['judge_year'] = test['judgementdate'].dt.year\r\n",
        "# test['judge_month'] = test['judgementdate'].dt.month\r\n",
        "# test['judge_day'] = test['judgementdate'].dt.day\r\n",
        "# test['judge_day_of_week'] = test['judgementdate'].dt.dayofweek\r\n",
        "# test['judge_week_of_year'] = test['judgementdate'].dt.weekofyear\r\n",
        "\r\n",
        "test['judge_year_diff'] = max(test['judge_year'])-test['judge_year']\r\n",
        "\r\n",
        "\r\n",
        "train.drop(['judge_year'], axis = 1, inplace=True)\r\n",
        "test.drop(['judge_year'], axis = 1, inplace=True)"
      ],
      "execution_count": 163,
      "outputs": []
    },
    {
      "cell_type": "markdown",
      "metadata": {
        "id": "8huN1zt4XFjo"
      },
      "source": [
        "# submission 8  (add respondent.0)"
      ]
    },
    {
      "cell_type": "code",
      "metadata": {
        "id": "G0OsquB5sajW"
      },
      "source": [
        "te = TargetEncoder().fit(train['respondent.0'], train['importance'])\n",
        "train['respondent.0'] = te.transform(train['respondent.0'])\n",
        "test['respondent.0'] = te.transform(test['respondent.0'])"
      ],
      "execution_count": 164,
      "outputs": []
    },
    {
      "cell_type": "markdown",
      "metadata": {
        "id": "2TWWcaVCoIK-"
      },
      "source": [
        "# Submission 12 parties.1"
      ]
    },
    {
      "cell_type": "code",
      "metadata": {
        "id": "i-QBrVqdoD1t"
      },
      "source": [
        "te = TargetEncoder().fit(train['parties.1'], train['importance'])\n",
        "train['parties.1'] = te.transform(train['parties.1'])\n",
        "test['parties.1'] = te.transform(test['parties.1'])"
      ],
      "execution_count": 165,
      "outputs": []
    },
    {
      "cell_type": "code",
      "metadata": {
        "id": "1Iy9MzkEECC8"
      },
      "source": [
        "appno_id = test['appno']"
      ],
      "execution_count": 166,
      "outputs": []
    },
    {
      "cell_type": "code",
      "metadata": {
        "id": "Ba5UEaYcElen"
      },
      "source": [
        "pd.options.display.max_rows = None"
      ],
      "execution_count": 167,
      "outputs": []
    },
    {
      "cell_type": "code",
      "metadata": {
        "colab": {
          "base_uri": "https://localhost:8080/"
        },
        "id": "myzkI_EBQAUa",
        "outputId": "d37ff7f1-2703-41b8-eb80-42a3e8f23dee"
      },
      "source": [
        "train.shape"
      ],
      "execution_count": 168,
      "outputs": [
        {
          "output_type": "execute_result",
          "data": {
            "text/plain": [
              "(8878, 330)"
            ]
          },
          "metadata": {
            "tags": []
          },
          "execution_count": 168
        }
      ]
    },
    {
      "cell_type": "markdown",
      "metadata": {
        "id": "yMuHowfUY9G6"
      },
      "source": [
        "### Removed columns\r\n",
        "\r\n",
        "['ecli', 'itemid', 'sharepointid']   \r\n",
        "\r\n",
        "['application',\r\n",
        " 'languageisocode',\r\n",
        " 'originatingbody_type',\r\n",
        " 'documentcollectionid=CASELAW',\r\n",
        " 'documentcollectionid=JUDGMENTS',\r\n",
        " 'documentcollectionid=ENG',\r\n",
        " 'applicability=51',\r\n",
        " 'applicability=7',\r\n",
        " 'applicability=28',\r\n",
        " 'applicability=29',\r\n",
        " 'applicability=31',\r\n",
        " 'applicability=19',\r\n",
        " 'applicability=40',\r\n",
        " 'applicability=34',\r\n",
        " 'applicability=27',\r\n",
        " 'applicability=64',\r\n",
        " 'applicability=4',\r\n",
        " 'applicability=77',\r\n",
        " 'paragraphs=7-2',\r\n",
        " 'paragraphs=28-3',\r\n",
        " 'paragraphs=27-1-b',\r\n",
        " 'paragraphs=32-2',\r\n",
        " 'paragraphs=46-4']   \r\n",
        "\r\n",
        " ['issue.24',\r\n",
        " 'issue.25',\r\n",
        " 'issue.26',\r\n",
        " 'parties.2',\r\n",
        " 'respondent.2',\r\n",
        " 'respondent.3',\r\n",
        " 'respondent.4']\r\n",
        "\r\n",
        "'country.name'   \r\n",
        "\r\n",
        "decisiondate -----nunique------ 232 ----nulls---- 8202   \r\n",
        "introductiondate -----nunique------ 511 ----nulls---- 8202   \r\n",
        "docname -----nunique------ 8682 ----nulls---- 0   \r\n",
        "\r\n",
        "originatingbody_name **same as** originatingbody\r\n",
        "\r\n",
        "respondentOrderEng  **same as** respondent.0\r\n",
        "\r\n",
        "'judgementdate' **same as** 'kpdate'\r\n",
        "\r\n",
        "\r\n",
        "'doctypebranch' **same as** 'documentcollectionid=CHAMBER','documentcollectionid=COMMITTEE','documentcollectionid=GRANDCHAMBER'   \r\n",
        "\r\n",
        "['parties.0', 'parties.1', 'parties.2'] **same as** originatingbody  \r\n",
        "\r\n",
        "separateopinion -> True False"
      ]
    },
    {
      "cell_type": "code",
      "metadata": {
        "id": "s0pSwu9rSPa1"
      },
      "source": [
        "train.drop(['ecli', 'itemid', 'sharepointid'], axis = 1, inplace= True)\r\n",
        "\r\n",
        "preparties = ['parties.0', 'parties.2']\r\n",
        "train.drop(preparties, axis= 1, inplace=True)\r\n",
        "\r\n",
        "del1 = []\r\n",
        "for col in train.columns:\r\n",
        "  if (train[col].nunique() == 1 and train[col].isnull().sum() == 0):\r\n",
        "    del1.append(col)\r\n",
        "train.drop(del1, axis= 1, inplace=True)\r\n",
        "\r\n",
        "del2 = []\r\n",
        "for col in train.columns:\r\n",
        "  if (train[col].nunique() == 1):\r\n",
        "    del2.append(col)\r\n",
        "train.drop(del2, axis= 1, inplace=True)\r\n",
        "\r\n",
        "train.drop(['documentcollectionid=CHAMBER','documentcollectionid=COMMITTEE','documentcollectionid=GRANDCHAMBER'], axis= 1, inplace=True)\r\n",
        "train.drop('country.name', axis= 1, inplace=True)\r\n",
        "train.drop(['decisiondate', 'introductiondate'], axis= 1, inplace=True)\r\n",
        "train.drop(['docname', 'originatingbody_name', 'respondentOrderEng', 'kpdate'], axis= 1, inplace=True)\r\n",
        "train.drop('appno', axis= 1, inplace=True)"
      ],
      "execution_count": 169,
      "outputs": []
    },
    {
      "cell_type": "code",
      "metadata": {
        "id": "gpF9HTVBiXRN"
      },
      "source": [
        "test.drop(['ecli', 'itemid', 'sharepointid'], axis = 1, inplace= True)\r\n",
        "test.drop(preparties, axis= 1, inplace=True)\r\n",
        "test.drop(del1, axis= 1, inplace=True)\r\n",
        "test.drop(del2, axis= 1, inplace=True)\r\n",
        "test.drop(['documentcollectionid=CHAMBER','documentcollectionid=COMMITTEE','documentcollectionid=GRANDCHAMBER'], axis= 1, inplace=True)\r\n",
        "test.drop('country.name', axis= 1, inplace=True)\r\n",
        "test.drop(['decisiondate', 'introductiondate'], axis= 1, inplace=True)\r\n",
        "test.drop(['docname', 'originatingbody_name', 'respondentOrderEng', 'kpdate'], axis= 1, inplace=True)\r\n",
        "test.drop('appno', axis= 1, inplace=True)"
      ],
      "execution_count": 170,
      "outputs": []
    },
    {
      "cell_type": "code",
      "metadata": {
        "colab": {
          "base_uri": "https://localhost:8080/"
        },
        "id": "n40kP-xHIQjO",
        "outputId": "f0b4f6aa-c997-4280-8201-127c7e5d45d7"
      },
      "source": [
        "print(train.shape)\r\n",
        "print(test.shape)"
      ],
      "execution_count": 171,
      "outputs": [
        {
          "output_type": "stream",
          "text": [
            "(8878, 285)\n",
            "(4760, 284)\n"
          ],
          "name": "stdout"
        }
      ]
    },
    {
      "cell_type": "markdown",
      "metadata": {
        "id": "6kq30IRp35Gu"
      },
      "source": [
        "## more columns to remove"
      ]
    },
    {
      "cell_type": "code",
      "metadata": {
        "id": "b3hWrS6N3508"
      },
      "source": [
        "article_cols=[]\r\n",
        "for col in train.columns:\r\n",
        "  if col.startswith('article'):\r\n",
        "    article_cols.append(col)\r\n",
        "\r\n",
        "\r\n",
        "applicability_cols=[]\r\n",
        "for col in train.columns:\r\n",
        "  if col.startswith('applicability'):\r\n",
        "    applicability_cols.append(col)\r\n",
        "\r\n",
        "\r\n",
        "paragraphs_cols=[]\r\n",
        "for col in train.columns:\r\n",
        "  if col.startswith('paragraphs='):\r\n",
        "    paragraphs_cols.append(col)\r\n",
        "\r\n",
        "ccl_article_cols=[]\r\n",
        "for col in train.columns:\r\n",
        "  if col.startswith('ccl_article='):\r\n",
        "    ccl_article_cols.append(col)\r\n",
        "\r\n",
        "ohe_cols = []\r\n",
        "ohe_cols.extend(article_cols)\r\n",
        "ohe_cols.extend(applicability_cols)\r\n",
        "ohe_cols.extend(paragraphs_cols)"
      ],
      "execution_count": 172,
      "outputs": []
    },
    {
      "cell_type": "code",
      "metadata": {
        "id": "bLWKJ--TNzcb"
      },
      "source": [
        "# train['sum_article']=0\r\n",
        "# for col in article_cols:\r\n",
        "#   train['sum_article'] += train[col]\r\n",
        "\r\n",
        "# train['sum_paragraphs']=0\r\n",
        "# for col in paragraphs_cols:\r\n",
        "#   train['sum_paragraphs'] += train[col]\r\n"
      ],
      "execution_count": 173,
      "outputs": []
    },
    {
      "cell_type": "code",
      "metadata": {
        "id": "hxy_kSraOvOK"
      },
      "source": [
        "# test['sum_article']=0\r\n",
        "# for col in article_cols:\r\n",
        "#   test['sum_article'] += test[col]\r\n",
        "\r\n",
        "# test['sum_paragraphs']=0\r\n",
        "# for col in paragraphs_cols:\r\n",
        "#   test['sum_paragraphs'] += test[col]\r\n"
      ],
      "execution_count": 174,
      "outputs": []
    },
    {
      "cell_type": "code",
      "metadata": {
        "id": "nCFo2Fe8BByo"
      },
      "source": [
        "remove_col =[]\r\n",
        "for col in ohe_cols:\r\n",
        "  if (train[col].value_counts()[0]<15) or (train[col].value_counts()[1]<15):\r\n",
        "    remove_col.append(col)\r\n",
        "    # print(col)\r\n",
        "\r\n",
        "# remove_col"
      ],
      "execution_count": 175,
      "outputs": []
    },
    {
      "cell_type": "code",
      "metadata": {
        "colab": {
          "base_uri": "https://localhost:8080/"
        },
        "id": "l0myI7gnCw92",
        "outputId": "7f19adcb-ca86-417a-d5d1-b09dc971b119"
      },
      "source": [
        "len(remove_col)"
      ],
      "execution_count": 176,
      "outputs": [
        {
          "output_type": "execute_result",
          "data": {
            "text/plain": [
              "111"
            ]
          },
          "metadata": {
            "tags": []
          },
          "execution_count": 176
        }
      ]
    },
    {
      "cell_type": "code",
      "metadata": {
        "id": "qsn_X0muC3SW"
      },
      "source": [
        "train.drop(remove_col, axis=1, inplace=True)\n",
        "test.drop(remove_col, axis=1, inplace=True)"
      ],
      "execution_count": 177,
      "outputs": []
    },
    {
      "cell_type": "markdown",
      "metadata": {
        "id": "bb6WABU0SJEX"
      },
      "source": [
        "## Encoding Techniques\r\n",
        "\r\n",
        "   \r\n",
        "**OHE** = doctypebranch, originatingbody, separateopinion, typedescription, article={number}, applicability={number}, ccl_article={Type}, paragraphs={number}\r\n",
        "\r\n",
        "**Hashing Encoder** = issue, country\r\n",
        "\r\n"
      ]
    },
    {
      "cell_type": "code",
      "metadata": {
        "id": "WqrZ9BzBbTKp"
      },
      "source": [
        "issue_cols=[]\r\n",
        "for col in train.columns:\r\n",
        "  if col.startswith('issue.'):\r\n",
        "    issue_cols.append(col)\r\n",
        "\r\n",
        "train[issue_cols] = train[issue_cols].notnull().astype('int')\r\n",
        "train[issue_cols] = train[issue_cols].fillna(0)\r\n",
        "\r\n",
        "test[issue_cols] = test[issue_cols].notnull().astype('int')\r\n",
        "test[issue_cols] = test[issue_cols].fillna(0)\r\n",
        "\r\n",
        "train['issue_sum']=0\r\n",
        "for col in issue_cols:\r\n",
        "  train['issue_sum'] += train[col]\r\n",
        "\r\n",
        "test['issue_sum']=0\r\n",
        "for col in issue_cols:\r\n",
        "  test['issue_sum'] += test[col]"
      ],
      "execution_count": 178,
      "outputs": []
    },
    {
      "cell_type": "code",
      "metadata": {
        "id": "8Qr2ywW6ImCg"
      },
      "source": [
        "X = train.drop('importance', axis= 1)\r\n",
        "y = train.importance"
      ],
      "execution_count": 179,
      "outputs": []
    },
    {
      "cell_type": "code",
      "metadata": {
        "colab": {
          "base_uri": "https://localhost:8080/"
        },
        "id": "_ltCWUkLCQbZ",
        "outputId": "bc4c5554-3233-4b47-a0f1-249ef39e89d1"
      },
      "source": [
        "train.shape"
      ],
      "execution_count": 180,
      "outputs": [
        {
          "output_type": "execute_result",
          "data": {
            "text/plain": [
              "(8878, 175)"
            ]
          },
          "metadata": {
            "tags": []
          },
          "execution_count": 180
        }
      ]
    },
    {
      "cell_type": "markdown",
      "metadata": {
        "id": "F1mF6-C72MST"
      },
      "source": [
        "### OHE"
      ]
    },
    {
      "cell_type": "code",
      "metadata": {
        "id": "50ikO9lMCQDa"
      },
      "source": [
        "ohe_cols=[]"
      ],
      "execution_count": 181,
      "outputs": []
    },
    {
      "cell_type": "code",
      "metadata": {
        "id": "HKumebiT4PdL"
      },
      "source": [
        "article_cols=[]\r\n",
        "for col in train.columns:\r\n",
        "  if col.startswith('article'):\r\n",
        "    article_cols.append(col)\r\n",
        "\r\n",
        "applicability_cols=[]\r\n",
        "for col in train.columns:\r\n",
        "  if col.startswith('applicability'):\r\n",
        "    applicability_cols.append(col)\r\n",
        "\r\n",
        "paragraphs_cols=[]\r\n",
        "for col in train.columns:\r\n",
        "  if col.startswith('paragraphs='):\r\n",
        "    paragraphs_cols.append(col)\r\n",
        "\r\n",
        "ccl_article_cols=[]\r\n",
        "for col in train.columns:\r\n",
        "  if col.startswith('ccl_article='):\r\n",
        "    ccl_article_cols.append(col)"
      ],
      "execution_count": 182,
      "outputs": []
    },
    {
      "cell_type": "code",
      "metadata": {
        "colab": {
          "base_uri": "https://localhost:8080/"
        },
        "id": "R3TVbIDu45x2",
        "outputId": "df16592b-e01e-4a9f-b4fe-a552d7405715"
      },
      "source": [
        "ohe_cols = ['doctypebranch', 'originatingbody', 'separateopinion', 'typedescription']\r\n",
        "ohe_cols.extend(article_cols)\r\n",
        "ohe_cols.extend(applicability_cols)\r\n",
        "ohe_cols.extend(paragraphs_cols)\r\n",
        "ohe_cols.extend(ccl_article_cols)\r\n",
        "\r\n",
        "len(ohe_cols)"
      ],
      "execution_count": 183,
      "outputs": [
        {
          "output_type": "execute_result",
          "data": {
            "text/plain": [
              "141"
            ]
          },
          "metadata": {
            "tags": []
          },
          "execution_count": 183
        }
      ]
    },
    {
      "cell_type": "code",
      "metadata": {
        "id": "KnjSahzdK4Xg"
      },
      "source": [
        "ohe = OneHotEncoder(drop= 'first').fit(X[ohe_cols])\r\n",
        "train_ohe = pd.DataFrame(ohe.transform(X[ohe_cols]).todense(), \r\n",
        "                                columns=ohe.get_feature_names())"
      ],
      "execution_count": 184,
      "outputs": []
    },
    {
      "cell_type": "code",
      "metadata": {
        "id": "BhlzmQDNjCkH"
      },
      "source": [
        "test_ohe = pd.DataFrame(ohe.transform(test[ohe_cols]).todense(), columns=ohe.get_feature_names())"
      ],
      "execution_count": 185,
      "outputs": []
    },
    {
      "cell_type": "code",
      "metadata": {
        "colab": {
          "base_uri": "https://localhost:8080/"
        },
        "id": "eNFhpJEHjiyp",
        "outputId": "9182dd4b-f23a-4eaf-9646-d05da568b222"
      },
      "source": [
        "print(train_ohe.shape)\r\n",
        "print(test_ohe.shape)"
      ],
      "execution_count": 186,
      "outputs": [
        {
          "output_type": "stream",
          "text": [
            "(8878, 176)\n",
            "(4760, 176)\n"
          ],
          "name": "stdout"
        }
      ]
    },
    {
      "cell_type": "code",
      "metadata": {
        "id": "hPW1bK71IHzv"
      },
      "source": [
        "issue_cols=[]\r\n",
        "for col in train.columns:\r\n",
        "  if col.startswith('issue.'):\r\n",
        "    issue_cols.append(col)"
      ],
      "execution_count": 187,
      "outputs": []
    },
    {
      "cell_type": "code",
      "metadata": {
        "id": "RBqPZhFKGqiR"
      },
      "source": [
        "hash_enco = ce.HashingEncoder(cols=issue_cols, drop_invariant = True, ).fit(X,y)\r\n",
        "train_hash = hash_enco.transform(X)"
      ],
      "execution_count": 188,
      "outputs": []
    },
    {
      "cell_type": "code",
      "metadata": {
        "id": "zBRV83iTkSAM"
      },
      "source": [
        "train_hash[['c2','c3']] = train_hash[['col_2', 'col_3']]"
      ],
      "execution_count": 189,
      "outputs": []
    },
    {
      "cell_type": "code",
      "metadata": {
        "id": "IE7hkjnWk7AC"
      },
      "source": [
        "train_hash.drop(['col_2', 'col_3'], axis=1, inplace=True)"
      ],
      "execution_count": 190,
      "outputs": []
    },
    {
      "cell_type": "code",
      "metadata": {
        "id": "S254K8d_61KC"
      },
      "source": [
        "hash_enco_2 = ce.HashingEncoder(cols=['country.alpha2'], drop_invariant = True).fit(train_hash,y)\r\n",
        "train_hashed = hash_enco_2.transform(train_hash)"
      ],
      "execution_count": 191,
      "outputs": []
    },
    {
      "cell_type": "code",
      "metadata": {
        "id": "Q1Xg_nKE8N9d"
      },
      "source": [
        "## TEST\r\n",
        "\r\n",
        "test_hash = hash_enco.transform(test)\r\n",
        "\r\n",
        "test_hash[['c2','c3']] = test_hash[['col_2', 'col_3']]\r\n",
        "test_hash.drop(['col_2', 'col_3'], axis=1, inplace=True)\r\n",
        "\r\n",
        "test_hashed = hash_enco_2.transform(test_hash)"
      ],
      "execution_count": 192,
      "outputs": []
    },
    {
      "cell_type": "code",
      "metadata": {
        "colab": {
          "base_uri": "https://localhost:8080/"
        },
        "id": "Qs1GCtymGqqA",
        "outputId": "990e97d7-dce8-42ab-b769-6eebc16124de"
      },
      "source": [
        "print(train_hashed.shape)\r\n",
        "print(test_hashed.shape)"
      ],
      "execution_count": 193,
      "outputs": [
        {
          "output_type": "stream",
          "text": [
            "(8878, 159)\n",
            "(4760, 159)\n"
          ],
          "name": "stdout"
        }
      ]
    },
    {
      "cell_type": "code",
      "metadata": {
        "id": "n75fRSDMQVEk"
      },
      "source": [
        "train_hashed.drop(ohe_cols, axis=1, inplace=True)"
      ],
      "execution_count": 194,
      "outputs": []
    },
    {
      "cell_type": "code",
      "metadata": {
        "id": "GU99Fn688xgn"
      },
      "source": [
        "test_hashed.drop(ohe_cols, axis=1, inplace=True)"
      ],
      "execution_count": 195,
      "outputs": []
    },
    {
      "cell_type": "code",
      "metadata": {
        "id": "a_c_jNIkU106"
      },
      "source": [
        "train = pd.concat([train_hashed, train_ohe], axis=1)"
      ],
      "execution_count": 196,
      "outputs": []
    },
    {
      "cell_type": "code",
      "metadata": {
        "id": "sMfRef-y81nN"
      },
      "source": [
        "test = pd.concat([test_hashed, test_ohe], axis=1)"
      ],
      "execution_count": 197,
      "outputs": []
    },
    {
      "cell_type": "code",
      "metadata": {
        "colab": {
          "base_uri": "https://localhost:8080/"
        },
        "id": "K__qEGRDQmd_",
        "outputId": "dd8e9121-f448-4052-c723-5142f9b10932"
      },
      "source": [
        "print(train.shape)\r\n",
        "print(test.shape)"
      ],
      "execution_count": 198,
      "outputs": [
        {
          "output_type": "stream",
          "text": [
            "(8878, 194)\n",
            "(4760, 194)\n"
          ],
          "name": "stdout"
        }
      ]
    },
    {
      "cell_type": "code",
      "metadata": {
        "id": "A_PkIoOnVgLK"
      },
      "source": [
        "train.drop(['judgementdate', 'respondent.1'], axis=1, inplace=True)\r\n",
        "test.drop(['judgementdate', 'respondent.1'], axis=1, inplace=True)"
      ],
      "execution_count": 199,
      "outputs": []
    },
    {
      "cell_type": "code",
      "metadata": {
        "id": "A5vU2n09eReY"
      },
      "source": [
        "train['date_diff_1'] = train['date_diff_1'].fillna(0)\r\n",
        "test['date_diff_1'] = test['date_diff_1'].fillna(0)"
      ],
      "execution_count": 200,
      "outputs": []
    },
    {
      "cell_type": "code",
      "metadata": {
        "colab": {
          "base_uri": "https://localhost:8080/"
        },
        "id": "aHD7v-c2CD86",
        "outputId": "ddaea44a-f777-46a1-8ab4-b20de362f0ac"
      },
      "source": [
        "train.shape"
      ],
      "execution_count": 201,
      "outputs": [
        {
          "output_type": "execute_result",
          "data": {
            "text/plain": [
              "(8878, 192)"
            ]
          },
          "metadata": {
            "tags": []
          },
          "execution_count": 201
        }
      ]
    },
    {
      "cell_type": "code",
      "metadata": {
        "colab": {
          "base_uri": "https://localhost:8080/"
        },
        "id": "yjb6CDXDCI7v",
        "outputId": "5e86d26e-42ab-42d8-d5ab-9c59e16d66ec"
      },
      "source": [
        "y.shape"
      ],
      "execution_count": 202,
      "outputs": [
        {
          "output_type": "execute_result",
          "data": {
            "text/plain": [
              "(8878,)"
            ]
          },
          "metadata": {
            "tags": []
          },
          "execution_count": 202
        }
      ]
    },
    {
      "cell_type": "code",
      "metadata": {
        "id": "9C_TgbohdzcF"
      },
      "source": [
        "X_train, X_val, y_train, y_val = train_test_split(train, y, test_size=0.20,random_state=123)"
      ],
      "execution_count": 203,
      "outputs": []
    },
    {
      "cell_type": "code",
      "metadata": {
        "id": "OqYGUp8EeBrM",
        "colab": {
          "base_uri": "https://localhost:8080/"
        },
        "outputId": "ee69c373-d25e-4b9e-9aba-7ef70ff525c5"
      },
      "source": [
        "print(X_train.shape)\r\n",
        "print(X_val.shape)\r\n",
        "print(y_train.shape)\r\n",
        "print(y_val.shape)"
      ],
      "execution_count": 204,
      "outputs": [
        {
          "output_type": "stream",
          "text": [
            "(7102, 192)\n",
            "(1776, 192)\n",
            "(7102,)\n",
            "(1776,)\n"
          ],
          "name": "stdout"
        }
      ]
    },
    {
      "cell_type": "markdown",
      "metadata": {
        "id": "cGQUXPoYelWB"
      },
      "source": [
        "## Model Building"
      ]
    },
    {
      "cell_type": "markdown",
      "metadata": {
        "id": "7Vg79p4IZv-z"
      },
      "source": [
        "### Randomized Search CV"
      ]
    },
    {
      "cell_type": "code",
      "metadata": {
        "id": "5I747l4UZ0iY"
      },
      "source": [
        "from sklearn.model_selection import RandomizedSearchCV\r\n",
        "from scipy.stats import uniform, truncnorm, randint\r\n",
        "\r\n",
        "rfc_1 = RandomForestClassifier(n_jobs=-1)"
      ],
      "execution_count": null,
      "outputs": []
    },
    {
      "cell_type": "code",
      "metadata": {
        "id": "2EN2VqeRZ0p_"
      },
      "source": [
        "## set Hyper Parameter Distributions\r\n",
        "\r\n",
        "# Check max_features>0% & max_features<=100%\r\n",
        "max_features = np.round(np.random.normal(loc=0.25, scale=0.1, size=15),2)\r\n",
        "max_features[max_features <= 0.01] = 0.01\r\n",
        "max_features[max_features > 1.0] = 1.0\r\n",
        "\r\n",
        "model_params = {\r\n",
        "    # randomly sample numbers from 4 to 100 estimators\r\n",
        "    'n_estimators': np.random.uniform(10,100, 10).astype(int),\r\n",
        "    # normally distributed max_features, with mean .25 stddev 0.1, bounded between 0 and 1\r\n",
        "    'max_features': list(max_features),\r\n",
        "    # uniform distribution from 0.01 to 0.2\r\n",
        "    'min_samples_split': np.round(np.random.uniform(0.01, 0.2, 10),2),\r\n",
        "    # randomly sample numbers from 4 to 15\r\n",
        "    'max_depth': np.random.uniform(2,20, 10).astype(int)\r\n",
        "}"
      ],
      "execution_count": null,
      "outputs": []
    },
    {
      "cell_type": "code",
      "metadata": {
        "colab": {
          "base_uri": "https://localhost:8080/"
        },
        "id": "o7qven2RZ0v0",
        "outputId": "1eb3a535-f2d3-4d63-cc69-c7f0f87c722d"
      },
      "source": [
        "clf_hp = RandomizedSearchCV(estimator=rfc_1, param_distributions=model_params, n_iter=500, cv=5, scoring='accuracy', n_jobs=-1)\r\n",
        "clf_hp.fit(new_train_1, y)"
      ],
      "execution_count": null,
      "outputs": [
        {
          "output_type": "execute_result",
          "data": {
            "text/plain": [
              "RandomizedSearchCV(cv=5, error_score=nan,\n",
              "                   estimator=RandomForestClassifier(bootstrap=True,\n",
              "                                                    ccp_alpha=0.0,\n",
              "                                                    class_weight=None,\n",
              "                                                    criterion='gini',\n",
              "                                                    max_depth=None,\n",
              "                                                    max_features='auto',\n",
              "                                                    max_leaf_nodes=None,\n",
              "                                                    max_samples=None,\n",
              "                                                    min_impurity_decrease=0.0,\n",
              "                                                    min_impurity_split=None,\n",
              "                                                    min_samples_leaf=1,\n",
              "                                                    min_samples_split=2,\n",
              "                                                    min_weight_fraction_leaf=0.0,\n",
              "                                                    n_estimators=100, n_jobs...\n",
              "                   param_distributions={'max_depth': array([19,  7,  2,  2,  9,  7, 15, 17, 11,  3]),\n",
              "                                        'max_features': [0.1, 0.16, 0.28, 0.25,\n",
              "                                                         0.49, 0.16, 0.37, 0.13,\n",
              "                                                         0.25, 0.39, 0.26, 0.21,\n",
              "                                                         0.27, 0.38, 0.46],\n",
              "                                        'min_samples_split': array([0.02, 0.19, 0.19, 0.15, 0.03, 0.05, 0.03, 0.2 , 0.06, 0.13]),\n",
              "                                        'n_estimators': array([77, 76, 34, 94, 13, 58, 44, 34, 53, 25])},\n",
              "                   pre_dispatch='2*n_jobs', random_state=None, refit=True,\n",
              "                   return_train_score=False, scoring='accuracy', verbose=0)"
            ]
          },
          "metadata": {
            "tags": []
          },
          "execution_count": 61
        }
      ]
    },
    {
      "cell_type": "code",
      "metadata": {
        "colab": {
          "base_uri": "https://localhost:8080/"
        },
        "id": "x30_USDqx4Ic",
        "outputId": "8f2d4f83-7546-43e1-c836-ac505bb77a80"
      },
      "source": [
        "clf_hp.best_params_"
      ],
      "execution_count": null,
      "outputs": [
        {
          "output_type": "execute_result",
          "data": {
            "text/plain": [
              "{'max_depth': 19,\n",
              " 'max_features': 0.25,\n",
              " 'min_samples_split': 0.02,\n",
              " 'n_estimators': 94}"
            ]
          },
          "metadata": {
            "tags": []
          },
          "execution_count": 62
        }
      ]
    },
    {
      "cell_type": "code",
      "metadata": {
        "id": "fhp6N1AT8TwD"
      },
      "source": [
        "# rf_pred_hp = clf_hp.predict(new_test)"
      ],
      "execution_count": null,
      "outputs": []
    },
    {
      "cell_type": "markdown",
      "metadata": {
        "id": "LT-frW2dZkw2"
      },
      "source": [
        "## Random Forest Classifier"
      ]
    },
    {
      "cell_type": "code",
      "metadata": {
        "colab": {
          "base_uri": "https://localhost:8080/"
        },
        "id": "KCTmh-aWexuu",
        "outputId": "27f09515-ad77-451c-a553-78f886da38fc"
      },
      "source": [
        "# clf = RandomForestClassifier(n_estimators=400, max_depth=19, min_samples_leaf=2, random_state=123)\r\n",
        "clf = RandomForestClassifier(random_state=123, max_depth=15, max_features=0.2, min_samples_split=0.01, n_estimators=34)\r\n",
        "clf.fit(X=new_train_1, y=y)"
      ],
      "execution_count": 213,
      "outputs": [
        {
          "output_type": "execute_result",
          "data": {
            "text/plain": [
              "RandomForestClassifier(bootstrap=True, ccp_alpha=0.0, class_weight=None,\n",
              "                       criterion='gini', max_depth=19, max_features=0.25,\n",
              "                       max_leaf_nodes=None, max_samples=None,\n",
              "                       min_impurity_decrease=0.0, min_impurity_split=None,\n",
              "                       min_samples_leaf=1, min_samples_split=0.02,\n",
              "                       min_weight_fraction_leaf=0.0, n_estimators=94,\n",
              "                       n_jobs=None, oob_score=False, random_state=123,\n",
              "                       verbose=0, warm_start=False)"
            ]
          },
          "metadata": {
            "tags": []
          },
          "execution_count": 213
        }
      ]
    },
    {
      "cell_type": "code",
      "metadata": {
        "colab": {
          "base_uri": "https://localhost:8080/"
        },
        "id": "OtHyoXyGe5WP",
        "outputId": "8af0b081-d785-4c16-8344-77745b341c80"
      },
      "source": [
        "clf.feature_importances_"
      ],
      "execution_count": 209,
      "outputs": [
        {
          "output_type": "execute_result",
          "data": {
            "text/plain": [
              "array([2.90821154e-04, 7.64562958e-05, 7.90604366e-04, 2.86312443e-04,\n",
              "       6.09354058e-04, 2.57039684e-04, 9.50818278e-05, 2.24950259e-05,\n",
              "       2.54168597e-02, 8.92021992e-02, 2.02260023e-02, 8.75529090e-03,\n",
              "       7.49338917e-02, 1.37232314e-01, 1.28629219e-01, 1.13925334e-01,\n",
              "       1.03612043e-02, 2.80384346e-02, 1.65306143e-04, 4.52252351e-05,\n",
              "       1.85257092e-04, 2.93314249e-02, 5.72964172e-03, 2.47540160e-03,\n",
              "       4.78300380e-04, 7.14194961e-05, 2.89838923e-05, 1.30661753e-05,\n",
              "       1.18318628e-04, 2.01568791e-04, 1.09571195e-02, 1.76418950e-03,\n",
              "       1.32983232e-03, 2.32792954e-05, 0.00000000e+00, 7.60849594e-04,\n",
              "       5.41271156e-03, 5.58070055e-05, 3.14610367e-05, 2.63311663e-04,\n",
              "       2.90127349e-04, 1.47572032e-04, 5.27055281e-04, 1.92149273e-04,\n",
              "       6.75912694e-02, 1.49493444e-04, 3.66434080e-02, 3.13864086e-04,\n",
              "       1.62943031e-02, 1.54962479e-03, 1.05178042e-04, 1.14954276e-04,\n",
              "       3.76636471e-05, 3.51728134e-04, 1.51766748e-04, 1.69444301e-04,\n",
              "       4.89489730e-05, 2.07563518e-05, 0.00000000e+00, 2.24744752e-05,\n",
              "       1.35337031e-04, 3.82744152e-05, 1.33940364e-04, 2.40699108e-04,\n",
              "       4.31466279e-03, 3.91343991e-04, 1.24229804e-04, 9.27538000e-04,\n",
              "       0.00000000e+00, 1.29630056e-04, 1.44674913e-04, 2.59169803e-04,\n",
              "       6.04570236e-04, 2.78678714e-03, 5.88520382e-03, 6.41713785e-05,\n",
              "       3.14330166e-04, 4.36648992e-05, 9.78307132e-05, 2.81809096e-06,\n",
              "       2.23499183e-04, 1.01020067e-03, 2.00726449e-04, 2.17537751e-04,\n",
              "       1.24683798e-03, 1.60952189e-04, 3.64214226e-03, 3.64736681e-04,\n",
              "       5.21566763e-04, 4.18470793e-04, 7.26465483e-02, 1.54210974e-04,\n",
              "       3.31252500e-02, 2.51539376e-03, 1.66635027e-04, 1.22594420e-02,\n",
              "       3.20012088e-04, 1.30556418e-02, 7.47160684e-06, 0.00000000e+00,\n",
              "       1.67681832e-04, 9.69460701e-05, 1.26594191e-03, 2.21612361e-04,\n",
              "       2.87257759e-04, 4.68478727e-05, 8.88721447e-05, 9.28108987e-05,\n",
              "       3.09849188e-04, 3.20135185e-05, 1.14867060e-04, 1.05450133e-04,\n",
              "       1.25107698e-04, 4.92124188e-04, 3.31958391e-05, 2.07530162e-04,\n",
              "       3.30434860e-04, 2.79292842e-04, 2.68952336e-05, 1.05452248e-04,\n",
              "       1.03086998e-04, 1.71410085e-04, 1.13480821e-04, 2.36369161e-05,\n",
              "       0.00000000e+00, 0.00000000e+00, 4.78900929e-04, 9.22865901e-05,\n",
              "       6.75274273e-05, 6.25785429e-06, 6.63965932e-07, 1.55718704e-04,\n",
              "       6.38467877e-06, 2.12697520e-05, 1.41016583e-06, 2.21090287e-05,\n",
              "       2.28864982e-04, 1.42827282e-04, 3.45309675e-05, 4.51629738e-05,\n",
              "       2.33322855e-04, 2.15909217e-04, 2.12765648e-04, 0.00000000e+00,\n",
              "       2.36822756e-04, 1.77963351e-04, 4.74268244e-05, 3.33912019e-04,\n",
              "       1.67216679e-04, 1.46357165e-04, 1.69083485e-04, 1.16418532e-04,\n",
              "       3.55208880e-05, 3.02075260e-04, 1.91546073e-04, 3.19649933e-05,\n",
              "       4.82108311e-05, 5.40389577e-05, 4.19804666e-05, 0.00000000e+00,\n",
              "       3.55768827e-04, 9.15772432e-04, 6.49526908e-04, 0.00000000e+00,\n",
              "       0.00000000e+00, 1.29756806e-03, 2.88617254e-04, 9.47879029e-06,\n",
              "       2.25427189e-05, 1.42769137e-04, 1.56856752e-04, 1.63215588e-04,\n",
              "       9.19170473e-05, 9.40922073e-05, 7.21096321e-05, 1.13875887e-04,\n",
              "       2.50835248e-04, 1.31005823e-03, 1.58330306e-06, 7.72694339e-05,\n",
              "       6.51245872e-04, 3.70821718e-04, 6.35643527e-05, 2.85295427e-04,\n",
              "       1.37115819e-04, 4.55777289e-04, 0.00000000e+00, 4.15694366e-04,\n",
              "       2.00528543e-04, 7.82091410e-05, 1.64394578e-04, 4.59210534e-05])"
            ]
          },
          "metadata": {
            "tags": []
          },
          "execution_count": 209
        }
      ]
    },
    {
      "cell_type": "code",
      "metadata": {
        "colab": {
          "base_uri": "https://localhost:8080/"
        },
        "id": "xRoK5mgyfxpA",
        "outputId": "712fbcb5-a268-4a9a-ca2b-027342629450"
      },
      "source": [
        "importances = clf.feature_importances_\r\n",
        "indices = np.argsort(importances)\r\n",
        "print(indices)"
      ],
      "execution_count": 210,
      "outputs": [
        {
          "output_type": "stream",
          "text": [
            "[ 58  34 186 163 143 164 124 125 159  68  99 130 134 178  79 129 132  98\n",
            " 167  27  57 133 135  59   7 168  33 123 118  26  38 155 109 114 138 152\n",
            "  52  61 158  77 139  19 191 105 146 156  56 157  37 182  75 128  25 174\n",
            "   1 179 189 106 172 127 107 173   6 101  78 120  50 111 119 122 175 110\n",
            "  51 151  28  66 112  69  62  60 184 169 137  70 149  41  45  54  91 131\n",
            " 170  85 171 190  18  94 148 100 150  55 121 145  20 154  43 188  82  29\n",
            " 115 142 141  83 103  80 136 140 144  63 176   5  71  39 117 183   3 104\n",
            " 166  40   0 153 108  47  76  96 116 147  53 160  87 181  65 187  89 185\n",
            "  24 126 113  88  42  72   4 162 180  35   2 161  67  81  84 102 165 177\n",
            "  32  49  31  23  93  73  86  64  36  22  74  11  16  30  95  97  48  10\n",
            "   8  17  21  92  46  44  90  12   9  15  14  13]\n"
          ],
          "name": "stdout"
        }
      ]
    },
    {
      "cell_type": "code",
      "metadata": {
        "id": "mkdg5eUVfxpc"
      },
      "source": [
        "selected_indices = indices[importances[indices]>0.0005] #0.00001 --88.9 ---- no hp\n",
        "selected_cols = [X_train.columns[i] for i in selected_indices]\n",
        "new_train = X_train[selected_cols]\n",
        "new_val = X_val[selected_cols]\n",
        "\n",
        "new_train_1 = train[selected_cols]\n",
        "new_test = test[selected_cols]"
      ],
      "execution_count": 211,
      "outputs": []
    },
    {
      "cell_type": "code",
      "metadata": {
        "colab": {
          "base_uri": "https://localhost:8080/"
        },
        "id": "UWFptWAy-8mF",
        "outputId": "b8f05565-60cb-4f3b-b24b-1ac064081152"
      },
      "source": [
        "new_train_1.shape"
      ],
      "execution_count": 212,
      "outputs": [
        {
          "output_type": "execute_result",
          "data": {
            "text/plain": [
              "(8878, 45)"
            ]
          },
          "metadata": {
            "tags": []
          },
          "execution_count": 212
        }
      ]
    },
    {
      "cell_type": "code",
      "metadata": {
        "colab": {
          "base_uri": "https://localhost:8080/",
          "height": 1000
        },
        "id": "mWlMb_FHfFJQ",
        "outputId": "2627f0d5-1c87-4442-ca7d-1bed6961c5a7"
      },
      "source": [
        "import matplotlib.pyplot as plt\r\n",
        "%matplotlib inline\r\n",
        "features = new_train_1.columns\r\n",
        "\r\n",
        "plt.rcParams[\"figure.figsize\"] = (8,40)\r\n",
        "\r\n",
        "plt.title('Feature Importances')\r\n",
        "plt.barh(range(len(indices)),importances[indices], color='b')\r\n",
        "plt.yticks(range(len(indices)), [features[i] for i in indices])\r\n",
        "plt.xlabel('Relative Importance')\r\n",
        "plt.show()"
      ],
      "execution_count": null,
      "outputs": [
        {
          "output_type": "display_data",
          "data": {
            "image/png": "[encoded data removed]",
            "text/plain": [
              "<Figure size 576x2880 with 1 Axes>"
            ]
          },
          "metadata": {
            "tags": []
          }
        }
      ]
    },
    {
      "cell_type": "code",
      "metadata": {
        "id": "hccltg3-eg0z"
      },
      "source": [
        "# y_pred = clf.predict(new_train)\r\n",
        "# print(\"Accuracy for Train set:\")\r\n",
        "# print(accuracy_score(y_train,y_pred))\r\n",
        "\r\n",
        "# y_pred_val = clf.predict(new_val)\r\n",
        "# print(\"Accuracy for Test set:\")\r\n",
        "# print(accuracy_score(y_val,y_pred_val))\r\n"
      ],
      "execution_count": null,
      "outputs": []
    },
    {
      "cell_type": "code",
      "metadata": {
        "id": "Do_wPcV7jG-4"
      },
      "source": [
        "# new_pred = clf.predict(new_test)"
      ],
      "execution_count": 64,
      "outputs": []
    },
    {
      "cell_type": "markdown",
      "metadata": {
        "id": "785NMh2EfDZ-"
      },
      "source": [
        "## Light GBM GridSearchCV"
      ]
    },
    {
      "cell_type": "code",
      "metadata": {
        "id": "jPXFOWHW1Fc7"
      },
      "source": [
        "from sklearn.model_selection import GridSearchCV\r\n",
        "from lightgbm import LGBMClassifier"
      ],
      "execution_count": 76,
      "outputs": []
    },
    {
      "cell_type": "code",
      "metadata": {
        "id": "xYKq1S_gfDaT"
      },
      "source": [
        "# Model in use\n",
        "LGBM = LGBMClassifier() \n",
        " \n",
        "# Use a grid over parameters of interest\n",
        "param_grid = { \n",
        "           \"n_estimators\" : [150,200,300,500],\n",
        "           \"max_depth\" : [5,10],\n",
        "           \"learning_rate\" : [0.1, 0.2, 0.3, 0.4]}\n",
        " \n",
        "CV_LGBM = GridSearchCV(estimator=LGBM, param_grid=param_grid, cv=5)"
      ],
      "execution_count": 77,
      "outputs": []
    },
    {
      "cell_type": "code",
      "metadata": {
        "colab": {
          "base_uri": "https://localhost:8080/"
        },
        "id": "IR2T3QrafDaX",
        "outputId": "72dc323d-7258-42cb-e9d9-a4f19f580d4f"
      },
      "source": [
        "%time CV_LGBM.fit(X=new_train_1, y=y)"
      ],
      "execution_count": 78,
      "outputs": [
        {
          "output_type": "stream",
          "text": [
            "CPU times: user 12min 16s, sys: 20.5 s, total: 12min 37s\n",
            "Wall time: 6min 24s\n"
          ],
          "name": "stdout"
        },
        {
          "output_type": "execute_result",
          "data": {
            "text/plain": [
              "GridSearchCV(cv=5, error_score=nan,\n",
              "             estimator=LGBMClassifier(boosting_type='gbdt', class_weight=None,\n",
              "                                      colsample_bytree=1.0,\n",
              "                                      importance_type='split',\n",
              "                                      learning_rate=0.1, max_depth=-1,\n",
              "                                      min_child_samples=20,\n",
              "                                      min_child_weight=0.001,\n",
              "                                      min_split_gain=0.0, n_estimators=100,\n",
              "                                      n_jobs=-1, num_leaves=31, objective=None,\n",
              "                                      random_state=None, reg_alpha=0.0,\n",
              "                                      reg_lambda=0.0, silent=True,\n",
              "                                      subsample=1.0, subsample_for_bin=200000,\n",
              "                                      subsample_freq=0),\n",
              "             iid='deprecated', n_jobs=None,\n",
              "             param_grid={'learning_rate': [0.1, 0.2, 0.3, 0.4],\n",
              "                         'max_depth': [5, 10],\n",
              "                         'n_estimators': [150, 200, 300, 500]},\n",
              "             pre_dispatch='2*n_jobs', refit=True, return_train_score=False,\n",
              "             scoring=None, verbose=0)"
            ]
          },
          "metadata": {
            "tags": []
          },
          "execution_count": 78
        }
      ]
    },
    {
      "cell_type": "code",
      "metadata": {
        "colab": {
          "base_uri": "https://localhost:8080/"
        },
        "id": "5z-eqdgzfDaZ",
        "outputId": "7a7fddaa-5ebd-415d-cedf-df4b72e62be6"
      },
      "source": [
        "# Find best model\n",
        "best_lgbm_model = CV_LGBM.best_estimator_\n",
        "print (CV_LGBM.best_score_, CV_LGBM.best_params_)"
      ],
      "execution_count": 79,
      "outputs": [
        {
          "output_type": "stream",
          "text": [
            "0.8947604527365755 {'learning_rate': 0.1, 'max_depth': 10, 'n_estimators': 300}\n"
          ],
          "name": "stdout"
        }
      ]
    },
    {
      "cell_type": "markdown",
      "metadata": {
        "id": "_NuTgExo1FDJ"
      },
      "source": [
        "## Light GBM Classifier"
      ]
    },
    {
      "cell_type": "code",
      "metadata": {
        "colab": {
          "base_uri": "https://localhost:8080/"
        },
        "id": "eSAHQrlU1FjO",
        "outputId": "08347e64-928a-4e28-8a9d-8c2c3a2cf59e"
      },
      "source": [
        "lgb = LGBMClassifier(random_state=123, reg_lambda=0.3)\r\n",
        "lgb.fit(new_train_1, y)\r\n",
        "# lgb_pred = lgb.predict(X_val)"
      ],
      "execution_count": 214,
      "outputs": [
        {
          "output_type": "execute_result",
          "data": {
            "text/plain": [
              "LGBMClassifier(boosting_type='gbdt', class_weight=None, colsample_bytree=1.0,\n",
              "               importance_type='split', learning_rate=0.1, max_depth=10,\n",
              "               min_child_samples=20, min_child_weight=0.001, min_split_gain=0.0,\n",
              "               n_estimators=300, n_jobs=-1, num_leaves=31, objective=None,\n",
              "               random_state=123, reg_alpha=0.0, reg_lambda=0.0, silent=True,\n",
              "               subsample=1.0, subsample_for_bin=200000, subsample_freq=0)"
            ]
          },
          "metadata": {
            "tags": []
          },
          "execution_count": 214
        }
      ]
    },
    {
      "cell_type": "code",
      "metadata": {
        "colab": {
          "base_uri": "https://localhost:8080/"
        },
        "id": "qzMl0Fuo1FvM",
        "outputId": "9f0e7ae6-e27d-4a6b-c171-c3f8bdc78839"
      },
      "source": [
        "y_pred = lgb.predict(new_train)\r\n",
        "print(\"Accuracy for Train set:\")\r\n",
        "print(accuracy_score(y_train,y_pred))\r\n",
        "\r\n",
        "y_pred_val = lgb.predict(X_val)\r\n",
        "print(\"Accuracy for Test set:\")\r\n",
        "print(accuracy_score(y_val,y_pred_val))\r\n"
      ],
      "execution_count": null,
      "outputs": [
        {
          "output_type": "stream",
          "text": [
            "Accuracy for Train set:\n",
            "0.9667699239650802\n",
            "Accuracy for Test set:\n",
            "0.8913288288288288\n"
          ],
          "name": "stdout"
        }
      ]
    },
    {
      "cell_type": "code",
      "metadata": {
        "id": "AFQO_9pX3YRq"
      },
      "source": [
        "lgb_pred_1 = lgb.predict(new_test)"
      ],
      "execution_count": null,
      "outputs": []
    },
    {
      "cell_type": "markdown",
      "metadata": {
        "id": "BG7AqbUb5mpK"
      },
      "source": [
        "## GBM GridSearchCV"
      ]
    },
    {
      "cell_type": "code",
      "metadata": {
        "id": "GJCbaXtI5nAv"
      },
      "source": [
        "from sklearn.model_selection import GridSearchCV\r\n",
        "from sklearn.ensemble import GradientBoostingClassifier"
      ],
      "execution_count": 67,
      "outputs": []
    },
    {
      "cell_type": "code",
      "metadata": {
        "id": "cWJ493-k2Xe9"
      },
      "source": [
        "# Model in use\n",
        "GBM = GradientBoostingClassifier() \n",
        " \n",
        "# Use a grid over parameters of interest\n",
        "param_grid = { \n",
        "           \"n_estimators\" : [150,200,300],\n",
        "           \"max_depth\" : [5,10],\n",
        "           \"learning_rate\" : [0.1, 0.2, 0.3, 0.4]}\n",
        " \n",
        "CV_GBM = GridSearchCV(estimator=GBM, param_grid=param_grid, cv=5)"
      ],
      "execution_count": 73,
      "outputs": []
    },
    {
      "cell_type": "code",
      "metadata": {
        "colab": {
          "base_uri": "https://localhost:8080/"
        },
        "id": "1VYYGN4j2Xe-",
        "outputId": "44cd968d-1aa6-4860-9c65-c354b633fdff"
      },
      "source": [
        "%time CV_GBM.fit(X=new_train_1, y=y)"
      ],
      "execution_count": 74,
      "outputs": [
        {
          "output_type": "stream",
          "text": [
            "CPU times: user 42min 47s, sys: 547 ms, total: 42min 48s\n",
            "Wall time: 42min 56s\n"
          ],
          "name": "stdout"
        },
        {
          "output_type": "execute_result",
          "data": {
            "text/plain": [
              "GridSearchCV(cv=5, error_score=nan,\n",
              "             estimator=GradientBoostingClassifier(ccp_alpha=0.0,\n",
              "                                                  criterion='friedman_mse',\n",
              "                                                  init=None, learning_rate=0.1,\n",
              "                                                  loss='deviance', max_depth=3,\n",
              "                                                  max_features=None,\n",
              "                                                  max_leaf_nodes=None,\n",
              "                                                  min_impurity_decrease=0.0,\n",
              "                                                  min_impurity_split=None,\n",
              "                                                  min_samples_leaf=1,\n",
              "                                                  min_samples_split=2,\n",
              "                                                  min_weight_fraction_leaf=0.0,\n",
              "                                                  n_estimators=100,\n",
              "                                                  n_iter_no_change=None,\n",
              "                                                  presort='deprecated',\n",
              "                                                  random_state=None,\n",
              "                                                  subsample=1.0, tol=0.0001,\n",
              "                                                  validation_fraction=0.1,\n",
              "                                                  verbose=0, warm_start=False),\n",
              "             iid='deprecated', n_jobs=None,\n",
              "             param_grid={'learning_rate': [0.1, 0.2, 0.3, 0.4],\n",
              "                         'max_depth': [5, 10],\n",
              "                         'n_estimators': [150, 200, 300]},\n",
              "             pre_dispatch='2*n_jobs', refit=True, return_train_score=False,\n",
              "             scoring=None, verbose=0)"
            ]
          },
          "metadata": {
            "tags": []
          },
          "execution_count": 74
        }
      ]
    },
    {
      "cell_type": "code",
      "metadata": {
        "colab": {
          "base_uri": "https://localhost:8080/"
        },
        "id": "CSu1-CDT2Xe-",
        "outputId": "0f44c8ab-b292-4409-cc8e-2348895a5860"
      },
      "source": [
        "# Find best model\n",
        "best_gbm_model = CV_GBM.best_estimator_\n",
        "print (CV_GBM.best_score_, CV_GBM.best_params_)"
      ],
      "execution_count": 75,
      "outputs": [
        {
          "output_type": "stream",
          "text": [
            "0.8990786345547572 {'learning_rate': 0.1, 'max_depth': 10, 'n_estimators': 150}\n"
          ],
          "name": "stdout"
        }
      ]
    },
    {
      "cell_type": "code",
      "metadata": {
        "id": "6xXXmarE5nII"
      },
      "source": [
        "# y_pred = best_gbm_model.predict(new_train)\r\n",
        "# print(\"Accuracy for Train set:\")\r\n",
        "# print(accuracy_score(y_train,y_pred))\r\n",
        "\r\n",
        "# y_pred_val = best_gbm_model.predict(new_val)\r\n",
        "# print(\"Accuracy for Test set:\")\r\n",
        "# print(accuracy_score(y_val,y_pred_val))\r\n"
      ],
      "execution_count": null,
      "outputs": []
    },
    {
      "cell_type": "markdown",
      "metadata": {
        "id": "3dm0JjB8mc-m"
      },
      "source": [
        "## GradientBoostingClassifier"
      ]
    },
    {
      "cell_type": "code",
      "metadata": {
        "id": "bdEiErtdmdQv",
        "colab": {
          "base_uri": "https://localhost:8080/"
        },
        "outputId": "dd9161d0-de1d-4e10-f207-9c30d7d02406"
      },
      "source": [
        "GBM_model = GradientBoostingClassifier(n_estimators=500,\r\n",
        "                                       learning_rate=0.2,\r\n",
        "                                       subsample=0.8, random_state=123)\r\n",
        "\r\n",
        "GBM_model.fit(new_train_1, y)"
      ],
      "execution_count": 215,
      "outputs": [
        {
          "output_type": "execute_result",
          "data": {
            "text/plain": [
              "GradientBoostingClassifier(ccp_alpha=0.0, criterion='friedman_mse', init=None,\n",
              "                           learning_rate=0.1, loss='deviance', max_depth=10,\n",
              "                           max_features=None, max_leaf_nodes=None,\n",
              "                           min_impurity_decrease=0.0, min_impurity_split=None,\n",
              "                           min_samples_leaf=1, min_samples_split=2,\n",
              "                           min_weight_fraction_leaf=0.0, n_estimators=150,\n",
              "                           n_iter_no_change=None, presort='deprecated',\n",
              "                           random_state=123, subsample=1.0, tol=0.0001,\n",
              "                           validation_fraction=0.1, verbose=0,\n",
              "                           warm_start=False)"
            ]
          },
          "metadata": {
            "tags": []
          },
          "execution_count": 215
        }
      ]
    },
    {
      "cell_type": "code",
      "metadata": {
        "colab": {
          "base_uri": "https://localhost:8080/"
        },
        "id": "aXioQacfmdfB",
        "outputId": "1d07241e-8ed8-4128-9ab2-3abca322af7f"
      },
      "source": [
        "y_pred = GBM_model.predict(new_train)\r\n",
        "print(\"Accuracy for Train set:\")\r\n",
        "print(accuracy_score(y_train,y_pred))\r\n",
        "\r\n",
        "y_pred_val = GBM_model.predict(new_val)\r\n",
        "print(\"Accuracy for Test set:\")\r\n",
        "print(accuracy_score(y_val,y_pred_val))\r\n"
      ],
      "execution_count": null,
      "outputs": [
        {
          "output_type": "stream",
          "text": [
            "Accuracy for Train set:\n",
            "0.9970430864545199\n",
            "Accuracy for Test set:\n",
            "0.8980855855855856\n"
          ],
          "name": "stdout"
        }
      ]
    },
    {
      "cell_type": "code",
      "metadata": {
        "id": "1TWtuKnlqF7f"
      },
      "source": [
        "gbm_pred = GBM_model.predict(new_test)"
      ],
      "execution_count": null,
      "outputs": []
    },
    {
      "cell_type": "markdown",
      "metadata": {
        "id": "18OyM6A8hKpV"
      },
      "source": [
        "## XG Boost Hyperparameter Tuning"
      ]
    },
    {
      "cell_type": "code",
      "metadata": {
        "id": "_6kGB0U42XfH"
      },
      "source": [
        "from xgboost import XGBClassifier"
      ],
      "execution_count": 82,
      "outputs": []
    },
    {
      "cell_type": "code",
      "metadata": {
        "id": "L1OgUsd_66lp"
      },
      "source": [
        "XGB = XGBClassifier(n_jobs=-1)\r\n",
        " \r\n",
        "# Use a grid over parameters of interest\r\n",
        "param_grid = {\r\n",
        "     'colsample_bytree': np.linspace(0.6, 0.8, 3),\r\n",
        "     'n_estimators':[100,200,150,300],\r\n",
        "     'max_depth': [5, 10]\r\n",
        "}\r\n",
        "\r\n",
        "CV_XGB = GridSearchCV(estimator=XGB, param_grid=param_grid, cv= 5)"
      ],
      "execution_count": 83,
      "outputs": []
    },
    {
      "cell_type": "code",
      "metadata": {
        "colab": {
          "base_uri": "https://localhost:8080/"
        },
        "id": "FAH12dGfGRyf",
        "outputId": "901908d5-817c-4326-95a9-484f3fee5a1e"
      },
      "source": [
        "%time CV_XGB.fit(X = new_train_1, y=y)"
      ],
      "execution_count": 85,
      "outputs": [
        {
          "output_type": "stream",
          "text": [
            "CPU times: user 47min 23s, sys: 7.89 s, total: 47min 30s\n",
            "Wall time: 24min 5s\n"
          ],
          "name": "stdout"
        },
        {
          "output_type": "execute_result",
          "data": {
            "text/plain": [
              "GridSearchCV(cv=5, error_score=nan,\n",
              "             estimator=XGBClassifier(base_score=0.5, booster='gbtree',\n",
              "                                     colsample_bylevel=1, colsample_bynode=1,\n",
              "                                     colsample_bytree=1, gamma=0,\n",
              "                                     learning_rate=0.1, max_delta_step=0,\n",
              "                                     max_depth=3, min_child_weight=1,\n",
              "                                     missing=None, n_estimators=100, n_jobs=-1,\n",
              "                                     nthread=None, objective='binary:logistic',\n",
              "                                     random_state=0, reg_alpha=0, reg_lambda=1,\n",
              "                                     scale_pos_weight=1, seed=None, silent=None,\n",
              "                                     subsample=1, verbosity=1),\n",
              "             iid='deprecated', n_jobs=None,\n",
              "             param_grid={'colsample_bytree': array([0.6, 0.7, 0.8]),\n",
              "                         'max_depth': [5, 10],\n",
              "                         'n_estimators': [100, 200, 150, 300]},\n",
              "             pre_dispatch='2*n_jobs', refit=True, return_train_score=False,\n",
              "             scoring=None, verbose=0)"
            ]
          },
          "metadata": {
            "tags": []
          },
          "execution_count": 85
        }
      ]
    },
    {
      "cell_type": "code",
      "metadata": {
        "colab": {
          "base_uri": "https://localhost:8080/"
        },
        "id": "OMDjIJPMGcSf",
        "outputId": "53249766-b11a-4753-ce4a-372030083e8a"
      },
      "source": [
        "# Find best model\r\n",
        "best_xgb_model = CV_XGB.best_estimator_\r\n",
        "print (CV_XGB.best_score_, CV_XGB.best_params_)"
      ],
      "execution_count": 86,
      "outputs": [
        {
          "output_type": "stream",
          "text": [
            "0.9002150627939429 {'colsample_bytree': 0.6, 'max_depth': 10, 'n_estimators': 100}\n"
          ],
          "name": "stdout"
        }
      ]
    },
    {
      "cell_type": "code",
      "metadata": {
        "colab": {
          "base_uri": "https://localhost:8080/"
        },
        "id": "x0g2APWSIIjy",
        "outputId": "6da94eb3-a7cb-4cf9-cbe2-7c7f478bdbe2"
      },
      "source": [
        "# y_pred = best_xgb_model.predict(new_train)\r\n",
        "# print(\"Accuracy for Train set:\")\r\n",
        "# print(accuracy_score(y_train,y_pred))\r\n",
        "\r\n",
        "# y_pred_val = best_xgb_model.predict(new_val)\r\n",
        "# print(\"Accuracy for Test set:\")\r\n",
        "# print(accuracy_score(y_val,y_pred_val))\r\n"
      ],
      "execution_count": null,
      "outputs": [
        {
          "output_type": "stream",
          "text": [
            "Accuracy for Train set:\n",
            "0.9985919459307238\n",
            "Accuracy for Test set:\n",
            "0.8952702702702703\n"
          ],
          "name": "stdout"
        }
      ]
    },
    {
      "cell_type": "markdown",
      "metadata": {
        "id": "zH2kPuqJ655A"
      },
      "source": [
        "## XG Boost Classifier"
      ]
    },
    {
      "cell_type": "code",
      "metadata": {
        "colab": {
          "base_uri": "https://localhost:8080/"
        },
        "id": "_exUJ8gN2XfH",
        "outputId": "cfd8d538-c28d-4544-a72c-10569ac37bfd"
      },
      "source": [
        "XGB_model = XGBClassifier(random_state=123, colsample_bytree= 0.6, max_depth= 10, n_estimators= 200)\n",
        "%time XGB_model.fit(X=new_train_1, y=y)"
      ],
      "execution_count": 216,
      "outputs": [
        {
          "output_type": "stream",
          "text": [
            "CPU times: user 9.72 s, sys: 25.9 ms, total: 9.74 s\n",
            "Wall time: 9.79 s\n"
          ],
          "name": "stdout"
        },
        {
          "output_type": "execute_result",
          "data": {
            "text/plain": [
              "XGBClassifier(base_score=0.5, booster='gbtree', colsample_bylevel=1,\n",
              "              colsample_bynode=1, colsample_bytree=0.6, gamma=0,\n",
              "              learning_rate=0.1, max_delta_step=0, max_depth=10,\n",
              "              min_child_weight=1, missing=None, n_estimators=100, n_jobs=1,\n",
              "              nthread=None, objective='multi:softprob', random_state=123,\n",
              "              reg_alpha=0, reg_lambda=1, scale_pos_weight=1, seed=None,\n",
              "              silent=None, subsample=1, verbosity=1)"
            ]
          },
          "metadata": {
            "tags": []
          },
          "execution_count": 216
        }
      ]
    },
    {
      "cell_type": "code",
      "metadata": {
        "colab": {
          "base_uri": "https://localhost:8080/"
        },
        "id": "h8ktgeeZ2XfI",
        "outputId": "ea9dd046-f14b-4c2d-bec6-d8868deed3e5"
      },
      "source": [
        "y_pred = XGB_model.predict(new_train)\n",
        "print(\"Accuracy for Train set:\")\n",
        "print(accuracy_score(y_train,y_pred))\n",
        "\n",
        "y_pred_val = XGB_model.predict(new_val)\n",
        "print(\"Accuracy for Test set:\")\n",
        "print(accuracy_score(y_val,y_pred_val))\n"
      ],
      "execution_count": null,
      "outputs": [
        {
          "output_type": "stream",
          "text": [
            "Accuracy for Train set:\n",
            "0.9022810475922275\n",
            "Accuracy for Test set:\n",
            "0.8834459459459459\n"
          ],
          "name": "stdout"
        }
      ]
    },
    {
      "cell_type": "code",
      "metadata": {
        "id": "fFDy_5hHTTD4"
      },
      "source": [
        "XGB_y_pred = XGB_model.predict(new_test)"
      ],
      "execution_count": null,
      "outputs": []
    },
    {
      "cell_type": "markdown",
      "metadata": {
        "id": "fxWqPPjLHlXY"
      },
      "source": [
        "## Voting Regressor"
      ]
    },
    {
      "cell_type": "code",
      "metadata": {
        "id": "uhT4gmI3HlXY"
      },
      "source": [
        "import numpy as np\n",
        "from sklearn.ensemble import VotingClassifier"
      ],
      "execution_count": 217,
      "outputs": []
    },
    {
      "cell_type": "code",
      "metadata": {
        "id": "wJuBalZ5HlXY"
      },
      "source": [
        "vr = VotingClassifier([('LightGBM', lgb),(\"gbm1\",GBM_model),(\"Random Forest1\",clf),('xgboost', XGB_model)], )"
      ],
      "execution_count": 218,
      "outputs": []
    },
    {
      "cell_type": "code",
      "metadata": {
        "colab": {
          "base_uri": "https://localhost:8080/"
        },
        "id": "ioR-xpoyHlXY",
        "outputId": "d71e8194-2553-4e0a-d3c6-9688b4ebbae9"
      },
      "source": [
        "vr.fit(new_train_1,y)"
      ],
      "execution_count": 219,
      "outputs": [
        {
          "output_type": "execute_result",
          "data": {
            "text/plain": [
              "VotingClassifier(estimators=[('LightGBM',\n",
              "                              LGBMClassifier(boosting_type='gbdt',\n",
              "                                             class_weight=None,\n",
              "                                             colsample_bytree=1.0,\n",
              "                                             importance_type='split',\n",
              "                                             learning_rate=0.1, max_depth=10,\n",
              "                                             min_child_samples=20,\n",
              "                                             min_child_weight=0.001,\n",
              "                                             min_split_gain=0.0,\n",
              "                                             n_estimators=300, n_jobs=-1,\n",
              "                                             num_leaves=31, objective=None,\n",
              "                                             random_state=123, reg_alpha=0.0,\n",
              "                                             reg_lambda=0.0, silent=True,\n",
              "                                             su...\n",
              "                                            colsample_bynode=1,\n",
              "                                            colsample_bytree=0.6, gamma=0,\n",
              "                                            learning_rate=0.1, max_delta_step=0,\n",
              "                                            max_depth=10, min_child_weight=1,\n",
              "                                            missing=None, n_estimators=100,\n",
              "                                            n_jobs=1, nthread=None,\n",
              "                                            objective='multi:softprob',\n",
              "                                            random_state=123, reg_alpha=0,\n",
              "                                            reg_lambda=1, scale_pos_weight=1,\n",
              "                                            seed=None, silent=None, subsample=1,\n",
              "                                            verbosity=1))],\n",
              "                 flatten_transform=True, n_jobs=None, voting='hard',\n",
              "                 weights=None)"
            ]
          },
          "metadata": {
            "tags": []
          },
          "execution_count": 219
        }
      ]
    },
    {
      "cell_type": "code",
      "metadata": {
        "id": "WKm2llF8HlXY"
      },
      "source": [
        "vr_pred = vr.predict(new_test)"
      ],
      "execution_count": 220,
      "outputs": []
    },
    {
      "cell_type": "markdown",
      "metadata": {
        "id": "XfC0svM8c3an"
      },
      "source": [
        "# Submission"
      ]
    },
    {
      "cell_type": "code",
      "metadata": {
        "id": "mDtHMdMBCJa-"
      },
      "source": [
        "submission_file = pd.DataFrame([appno_id, vr_pred]).T"
      ],
      "execution_count": 221,
      "outputs": []
    },
    {
      "cell_type": "code",
      "metadata": {
        "id": "Aaoi7FFhCJbB"
      },
      "source": [
        "submission_file.columns = ['appno', 'importance']"
      ],
      "execution_count": 222,
      "outputs": []
    },
    {
      "cell_type": "code",
      "metadata": {
        "id": "n9M1vrgOCJbC"
      },
      "source": [
        "# submission_file['importance'] = submission_file['importance'].astype('int64')"
      ],
      "execution_count": 223,
      "outputs": []
    },
    {
      "cell_type": "code",
      "metadata": {
        "id": "kYE4SnB9CJbE"
      },
      "source": [
        "submission_file.to_csv(\"Submission_151.csv\",index=False)"
      ],
      "execution_count": 224,
      "outputs": []
    }
  ]
}